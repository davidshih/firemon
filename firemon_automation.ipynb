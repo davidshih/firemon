{
 "cells": [
  {
   "cell_type": "markdown",
   "metadata": {},
   "source": [
    "# FireMon Policy Optimizer Automation\n",
    "\n",
    "This notebook automates the process of:\n",
    "1. Opening FireMon Policy Optimizer\n",
    "2. Processing first two PO tickets\n",
    "3. Finding policy revision changes\n",
    "4. Taking screenshots of specific rule changes"
   ]
  },
  {
   "cell_type": "markdown",
   "metadata": {},
   "source": [
    "## Stage 1: Setup and Configuration\n",
    "Install and import required libraries"
   ]
  },
  {
   "cell_type": "code",
   "execution_count": null,
   "metadata": {},
   "outputs": [],
   "source": [
    "# Install required packages\n",
    "!pip install selenium webdriver-manager pillow"
   ]
  },
  {
   "cell_type": "code",
   "execution_count": null,
   "metadata": {},
   "outputs": [],
   "source": [
    "# Import required libraries\n",
    "from selenium import webdriver\n",
    "from selenium.webdriver.common.by import By\n",
    "from selenium.webdriver.support.ui import WebDriverWait\n",
    "from selenium.webdriver.support import expected_conditions as EC\n",
    "from selenium.webdriver.chrome.service import Service\n",
    "from webdriver_manager.chrome import ChromeDriverManager\n",
    "import time\n",
    "import os\n",
    "from datetime import datetime\n",
    "import logging\n",
    "\n",
    "# Setup logging\n",
    "logging.basicConfig(level=logging.INFO, format='%(asctime)s - %(levelname)s - %(message)s')\n",
    "logger = logging.getLogger(__name__)"
   ]
  },
  {
   "cell_type": "code",
   "execution_count": null,
   "metadata": {},
   "outputs": [],
   "source": [
    "# Configuration - UPDATE THESE VALUES\n",
    "FIREMON_URL = \"https://your-firemon-url.com\"  # Replace with your FireMon URL\n",
    "USERNAME = \"your_username\"  # Replace with your username\n",
    "PASSWORD = \"your_password\"  # Replace with your password\n",
    "\n",
    "# Create screenshots directory\n",
    "SCREENSHOT_DIR = \"screenshots\"\n",
    "if not os.path.exists(SCREENSHOT_DIR):\n",
    "    os.makedirs(SCREENSHOT_DIR)\n",
    "    logger.info(f\"Created screenshot directory: {SCREENSHOT_DIR}\")"
   ]
  },
  {
   "cell_type": "markdown",
   "metadata": {},
   "source": [
    "## Stage 2: Initialize WebDriver\n",
    "Set up Chrome driver with options"
   ]
  },
  {
   "cell_type": "code",
   "execution_count": null,
   "metadata": {},
   "outputs": [],
   "source": [
    "# Setup Chrome options\n",
    "chrome_options = webdriver.ChromeOptions()\n",
    "chrome_options.add_argument('--start-maximized')\n",
    "# Uncomment below to run in headless mode\n",
    "# chrome_options.add_argument('--headless')\n",
    "\n",
    "# Initialize Chrome driver\n",
    "driver = webdriver.Chrome(service=Service(ChromeDriverManager().install()), options=chrome_options)\n",
    "wait = WebDriverWait(driver, 20)  # 20 second timeout for element waits\n",
    "\n",
    "logger.info(\"WebDriver initialized successfully\")"
   ]
  },
  {
   "cell_type": "markdown",
   "metadata": {},
   "source": [
    "## Stage 3: Login to FireMon\n",
    "Navigate to FireMon and perform login"
   ]
  },
  {
   "cell_type": "code",
   "execution_count": null,
   "metadata": {},
   "outputs": [],
   "source": [
    "try:\n",
    "    # Navigate to FireMon\n",
    "    logger.info(f\"Navigating to FireMon: {FIREMON_URL}\")\n",
    "    driver.get(FIREMON_URL)\n",
    "    \n",
    "    # Wait for login page to load\n",
    "    time.sleep(3)\n",
    "    \n",
    "    # Find and fill username field\n",
    "    username_field = wait.until(EC.presence_of_element_located((By.ID, \"username\")))\n",
    "    username_field.clear()\n",
    "    username_field.send_keys(USERNAME)\n",
    "    logger.info(\"Username entered\")\n",
    "    \n",
    "    # Find and fill password field\n",
    "    password_field = driver.find_element(By.ID, \"password\")\n",
    "    password_field.clear()\n",
    "    password_field.send_keys(PASSWORD)\n",
    "    logger.info(\"Password entered\")\n",
    "    \n",
    "    # Click login button\n",
    "    login_button = driver.find_element(By.ID, \"login-button\")\n",
    "    login_button.click()\n",
    "    logger.info(\"Login button clicked\")\n",
    "    \n",
    "    # Wait for dashboard to load\n",
    "    time.sleep(5)\n",
    "    logger.info(\"Login successful\")\n",
    "    \n",
    "except Exception as e:\n",
    "    logger.error(f\"Login failed: {str(e)}\")\n",
    "    raise"
   ]
  },
  {
   "cell_type": "markdown",
   "metadata": {},
   "source": [
    "## Stage 4: Navigate to Policy Optimizer\n",
    "Find and click on Policy Optimizer link"
   ]
  },
  {
   "cell_type": "code",
   "execution_count": null,
   "metadata": {},
   "outputs": [],
   "source": [
    "try:\n",
    "    # Find Policy Optimizer link/menu item\n",
    "    # Note: Update the selector based on actual FireMon interface\n",
    "    po_link = wait.until(EC.element_to_be_clickable((By.LINK_TEXT, \"Policy Optimizer\")))\n",
    "    po_link.click()\n",
    "    logger.info(\"Clicked Policy Optimizer link\")\n",
    "    \n",
    "    # Wait for PO page to load\n",
    "    time.sleep(5)\n",
    "    \n",
    "    # Wait for PO tickets to load\n",
    "    po_tickets = wait.until(EC.presence_of_all_elements_located((By.CLASS_NAME, \"po-ticket\")))\n",
    "    logger.info(f\"Found {len(po_tickets)} PO tickets\")\n",
    "    \n",
    "except Exception as e:\n",
    "    logger.error(f\"Failed to navigate to Policy Optimizer: {str(e)}\")\n",
    "    raise"
   ]
  },
  {
   "cell_type": "markdown",
   "metadata": {},
   "source": [
    "## Stage 5: Process First Two PO Tickets\n",
    "Extract rule names and process each ticket"
   ]
  },
  {
   "cell_type": "code",
   "execution_count": null,
   "metadata": {},
   "outputs": [],
   "source": [
    "# Store ticket information\n",
    "tickets_to_process = []\n",
    "\n",
    "try:\n",
    "    # Get first two PO tickets\n",
    "    po_tickets = driver.find_elements(By.CLASS_NAME, \"po-ticket\")[:2]\n",
    "    \n",
    "    for i, ticket in enumerate(po_tickets):\n",
    "        # Extract rule name from ticket\n",
    "        # Note: Update selector based on actual structure\n",
    "        rule_name = ticket.find_element(By.CLASS_NAME, \"rule-name\").text\n",
    "        \n",
    "        # Find policy revision link\n",
    "        revision_link = ticket.find_element(By.CLASS_NAME, \"policy-revision-link\")\n",
    "        \n",
    "        tickets_to_process.append({\n",
    "            'index': i,\n",
    "            'rule_name': rule_name,\n",
    "            'revision_link': revision_link\n",
    "        })\n",
    "        \n",
    "        logger.info(f\"Ticket {i+1}: Rule name = {rule_name}\")\n",
    "    \n",
    "    logger.info(f\"Extracted info for {len(tickets_to_process)} tickets\")\n",
    "    \n",
    "except Exception as e:\n",
    "    logger.error(f\"Failed to extract ticket information: {str(e)}\")\n",
    "    raise"
   ]
  },
  {
   "cell_type": "markdown",
   "metadata": {},
   "source": [
    "## Stage 6: Process Each Ticket\n",
    "Click revision link, view changes, and capture screenshots"
   ]
  },
  {
   "cell_type": "code",
   "execution_count": null,
   "metadata": {},
   "outputs": [],
   "source": [
    "# Process each ticket\n",
    "for ticket_info in tickets_to_process:\n",
    "    try:\n",
    "        logger.info(f\"\\nProcessing ticket {ticket_info['index']+1}: {ticket_info['rule_name']}\")\n",
    "        \n",
    "        # Store current window handle\n",
    "        main_window = driver.current_window_handle\n",
    "        \n",
    "        # Click on policy revision link\n",
    "        ticket_info['revision_link'].click()\n",
    "        logger.info(\"Clicked policy revision link\")\n",
    "        \n",
    "        # Switch to new window/tab\n",
    "        time.sleep(2)\n",
    "        for window_handle in driver.window_handles:\n",
    "            if window_handle != main_window:\n",
    "                driver.switch_to.window(window_handle)\n",
    "                break\n",
    "        \n",
    "        # Wait for page to load\n",
    "        time.sleep(3)\n",
    "        \n",
    "        # Find and click \"View Changes\" toggle button\n",
    "        view_changes_btn = wait.until(EC.element_to_be_clickable((By.XPATH, \"//button[contains(text(), 'View Changes')]|//button[contains(text(), 'view changes')]|//button[@class='view-changes-toggle']|//button[@id='view-changes']\")))\n",
    "        view_changes_btn.click()\n",
    "        logger.info(\"Clicked 'View Changes' button\")\n",
    "        \n",
    "        # Wait for changes to load\n",
    "        time.sleep(5)\n",
    "        \n",
    "        # Find all rule change rows\n",
    "        rule_rows = driver.find_elements(By.CLASS_NAME, \"rule-change-row\")\n",
    "        logger.info(f\"Found {len(rule_rows)} rule change rows\")\n",
    "        \n",
    "        # Find the specific rule matching our rule name\n",
    "        found_matching_rule = False\n",
    "        for row in rule_rows:\n",
    "            try:\n",
    "                # Get rule name from row (update selector as needed)\n",
    "                row_rule_name = row.find_element(By.CLASS_NAME, \"rule-name\").text\n",
    "                \n",
    "                if row_rule_name == ticket_info['rule_name']:\n",
    "                    logger.info(f\"Found matching rule: {row_rule_name}\")\n",
    "                    \n",
    "                    # Scroll to element\n",
    "                    driver.execute_script(\"arguments[0].scrollIntoView(true);\", row)\n",
    "                    time.sleep(1)\n",
    "                    \n",
    "                    # Take screenshot\n",
    "                    timestamp = datetime.now().strftime(\"%Y%m%d_%H%M%S\")\n",
    "                    screenshot_name = f\"{SCREENSHOT_DIR}/PO_ticket_{ticket_info['index']+1}_{ticket_info['rule_name']}_{timestamp}.png\"\n",
    "                    row.screenshot(screenshot_name)\n",
    "                    logger.info(f\"Screenshot saved: {screenshot_name}\")\n",
    "                    \n",
    "                    found_matching_rule = True\n",
    "                    break\n",
    "                    \n",
    "            except Exception as e:\n",
    "                logger.warning(f\"Error processing row: {str(e)}\")\n",
    "                continue\n",
    "        \n",
    "        if not found_matching_rule:\n",
    "            logger.warning(f\"No matching rule found for: {ticket_info['rule_name']}\")\n",
    "            # Take full page screenshot as fallback\n",
    "            timestamp = datetime.now().strftime(\"%Y%m%d_%H%M%S\")\n",
    "            screenshot_name = f\"{SCREENSHOT_DIR}/PO_ticket_{ticket_info['index']+1}_full_page_{timestamp}.png\"\n",
    "            driver.save_screenshot(screenshot_name)\n",
    "            logger.info(f\"Full page screenshot saved: {screenshot_name}\")\n",
    "        \n",
    "        # Close current tab and switch back to main window\n",
    "        driver.close()\n",
    "        driver.switch_to.window(main_window)\n",
    "        time.sleep(2)\n",
    "        \n",
    "    except Exception as e:\n",
    "        logger.error(f\"Error processing ticket {ticket_info['index']+1}: {str(e)}\")\n",
    "        # Try to switch back to main window\n",
    "        try:\n",
    "            driver.switch_to.window(main_window)\n",
    "        except:\n",
    "            pass"
   ]
  },
  {
   "cell_type": "markdown",
   "metadata": {},
   "source": [
    "## Stage 7: Cleanup\n",
    "Close browser and summarize results"
   ]
  },
  {
   "cell_type": "code",
   "execution_count": null,
   "metadata": {},
   "outputs": [],
   "source": [
    "# Print summary\n",
    "logger.info(\"\\n=== AUTOMATION COMPLETE ===\")\n",
    "logger.info(f\"Screenshots saved in: {SCREENSHOT_DIR}\")\n",
    "\n",
    "# List all screenshots\n",
    "screenshots = [f for f in os.listdir(SCREENSHOT_DIR) if f.endswith('.png')]\n",
    "logger.info(f\"Total screenshots captured: {len(screenshots)}\")\n",
    "for screenshot in screenshots:\n",
    "    logger.info(f\"  - {screenshot}\")"
   ]
  },
  {
   "cell_type": "code",
   "execution_count": null,
   "metadata": {},
   "outputs": [],
   "source": [
    "# Close browser\n",
    "driver.quit()\n",
    "logger.info(\"Browser closed\")"
   ]
  },
  {
   "cell_type": "markdown",
   "metadata": {},
   "source": [
    "## Troubleshooting Tips\n",
    "\n",
    "1. **Login Issues:**\n",
    "   - Check if username/password field IDs are correct\n",
    "   - Verify credentials are correct\n",
    "   - Check if there's a captcha or 2FA\n",
    "\n",
    "2. **Element Not Found:**\n",
    "   - Use browser developer tools to inspect elements\n",
    "   - Update selectors (ID, class name, XPath) accordingly\n",
    "   - Increase wait times if elements load slowly\n",
    "\n",
    "3. **Screenshot Issues:**\n",
    "   - Ensure screenshot directory has write permissions\n",
    "   - Check if element is visible before taking screenshot\n",
    "   - Use full page screenshot as fallback\n",
    "\n",
    "4. **Common Selectors to Update:**\n",
    "   - Login: `#username`, `#password`, `#login-button`\n",
    "   - PO Tickets: `.po-ticket`, `.rule-name`, `.policy-revision-link`\n",
    "   - Changes: `.view-changes-toggle`, `.rule-change-row`"
   ]
  }
 ],
 "metadata": {
  "kernelspec": {
   "display_name": "Python 3",
   "language": "python",
   "name": "python3"
  },
  "language_info": {
   "codemirror_mode": {
    "name": "ipython",
    "version": 3
   },
   "file_extension": ".py",
   "mimetype": "text/x-python",
   "name": "python",
   "nbconvert_exporter": "python",
   "pygments_lexer": "ipython3",
   "version": "3.8.0"
  }
 },
 "nbformat": 4,
 "nbformat_minor": 4
}